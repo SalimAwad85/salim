{
 "cells": [
  {
   "cell_type": "markdown",
   "metadata": {},
   "source": [
    "## py-2"
   ]
  },
  {
   "cell_type": "code",
   "execution_count": 1,
   "metadata": {},
   "outputs": [
    {
     "name": "stdout",
     "output_type": "stream",
     "text": [
      "You are an adult.\n"
     ]
    }
   ],
   "source": [
    "# Exercise 1: Basic Conditions\n",
    "age = int(input(\"Please enter your age: \"))\n",
    "\n",
    "if age < 18:\n",
    "    print(\"You are a minor.\")\n",
    "elif age <= 64:\n",
    "    print(\"You are an adult.\")\n",
    "else:\n",
    "    print(\"You are a senior.\")\n"
   ]
  },
  {
   "cell_type": "code",
   "execution_count": 5,
   "metadata": {},
   "outputs": [
    {
     "name": "stdout",
     "output_type": "stream",
     "text": [
      "The number does not meet the criteria.\n"
     ]
    }
   ],
   "source": [
    "# Exercise 3: Logical Operators\n",
    "number = float(input(\"Enter a number: \"))\n",
    "\n",
    "if number > 10 and number > 0 and number % 2 == 0:\n",
    "    print(\"The number is positive, even, and greater than 10.\")\n",
    "else:\n",
    "    print(\"The number does not meet the criteria.\")\n"
   ]
  },
  {
   "cell_type": "code",
   "execution_count": 6,
   "metadata": {},
   "outputs": [
    {
     "name": "stdout",
     "output_type": "stream",
     "text": [
      "Your grade is A.\n"
     ]
    }
   ],
   "source": [
    "# Exercise 4: Nested Conditions\n",
    "score = float(input(\"Enter your test score: \"))\n",
    "\n",
    "if score >= 90:\n",
    "    print(\"Your grade is A.\")\n",
    "elif score >= 80:\n",
    "    print(\"Your grade is B.\")\n",
    "elif score >= 70:\n",
    "    print(\"Your grade is C.\")\n",
    "elif score >= 60:\n",
    "    print(\"Your grade is D.\")\n",
    "else:\n",
    "    print(\"Your grade is F.\")\n"
   ]
  },
  {
   "cell_type": "code",
   "execution_count": 7,
   "metadata": {},
   "outputs": [
    {
     "name": "stdout",
     "output_type": "stream",
     "text": [
      "Sum: 8.0\n",
      "Difference: -8.0\n",
      "Product: 0.0\n",
      "Quotient: 0.0\n"
     ]
    }
   ],
   "source": [
    "# Exercise 5: Arithmetic Operators\n",
    "num1 = float(input(\"Enter the first number: \"))\n",
    "num2 = float(input(\"Enter the second number: \"))\n",
    "\n",
    "print(f\"Sum: {num1 + num2}\")\n",
    "print(f\"Difference: {num1 - num2}\")\n",
    "print(f\"Product: {num1 * num2}\")\n",
    "if num2 != 0:\n",
    "    print(f\"Quotient: {num1 / num2}\")\n",
    "else:\n",
    "    print(\"Cannot divide by zero.\")\n"
   ]
  },
  {
   "cell_type": "code",
   "execution_count": 8,
   "metadata": {},
   "outputs": [
    {
     "name": "stdout",
     "output_type": "stream",
     "text": [
      "It is a weekday.\n"
     ]
    }
   ],
   "source": [
    "# Exercise 6: Using `elif`\n",
    "day = int(input(\"Enter the day of the week (1-7, where 1 is Monday and 7 is Sunday): \"))\n",
    "\n",
    "if 1 <= day <= 5:\n",
    "    print(\"It is a weekday.\")\n",
    "elif day == 6 or day == 7:\n",
    "    print(\"It is the weekend.\")\n",
    "else:\n",
    "    print(\"Invalid input. Please enter a number between 1 and 7.\")\n"
   ]
  },
  {
   "cell_type": "code",
   "execution_count": 9,
   "metadata": {},
   "outputs": [
    {
     "name": "stdout",
     "output_type": "stream",
     "text": [
      "The number is even.\n"
     ]
    }
   ],
   "source": [
    "# Exercise 7: Modulus Operator\n",
    "number = int(input(\"Enter a number: \"))\n",
    "\n",
    "if number % 2 == 0:\n",
    "    print(\"The number is even.\")\n",
    "else:\n",
    "    print(\"The number is odd.\")\n"
   ]
  },
  {
   "cell_type": "code",
   "execution_count": 10,
   "metadata": {},
   "outputs": [
    {
     "name": "stdout",
     "output_type": "stream",
     "text": [
      "4 is a leap year.\n"
     ]
    }
   ],
   "source": [
    "# Exercise 8: Multiple Conditions\n",
    "year = int(input(\"Enter a year: \"))\n",
    "\n",
    "if (year % 4 == 0 and year % 100 != 0) or (year % 400 == 0):\n",
    "    print(f\"{year} is a leap year.\")\n",
    "else:\n",
    "    print(f\"{year} is not a leap year.\")\n"
   ]
  },
  {
   "cell_type": "code",
   "execution_count": 11,
   "metadata": {},
   "outputs": [
    {
     "name": "stdout",
     "output_type": "stream",
     "text": [
      "The number is zero.\n"
     ]
    }
   ],
   "source": [
    "# Exercise 9: Combining Input and Conditions\n",
    "number = float(input(\"Enter a number: \"))\n",
    "\n",
    "if number > 0:\n",
    "    print(\"The number is positive.\")\n",
    "elif number < 0:\n",
    "    print(\"The number is negative.\")\n",
    "else:\n",
    "    print(\"The number is zero.\")\n",
    "\n"
   ]
  },
  {
   "cell_type": "code",
   "execution_count": 19,
   "metadata": {},
   "outputs": [
    {
     "name": "stdout",
     "output_type": "stream",
     "text": [
      "The result is\n"
     ]
    }
   ],
   "source": [
    "# Exercise 10: Basic Calculator\n",
    "num1 = float(input(\"Enter the first number: \"))\n",
    "num2 = float(input(\"Enter the second number: \"))\n",
    "operator = input(\"Enter an operator (+, -, *, /): \")\n",
    "\n",
    "if operator == '+':\n",
    "    print(f\"The result is\")\n"
   ]
  },
  {
   "cell_type": "code",
   "execution_count": 20,
   "metadata": {},
   "outputs": [
    {
     "name": "stdout",
     "output_type": "stream",
     "text": [
      "The result is: 8.0\n"
     ]
    }
   ],
   "source": [
    "# Exercise 10: Basic Calculator\n",
    "num1 = float(input(\"Enter the first number: \"))\n",
    "num2 = float(input(\"Enter the second number: \"))\n",
    "operator = input(\"Enter an operator (+, -, *, /): \")\n",
    "\n",
    "if operator == '+':\n",
    "    print(f\"The result is: {num1 + num2}\")\n",
    "elif operator == '-':\n",
    "    print(f\"The result is: {num1 - num2}\")\n",
    "elif operator == '*':\n",
    "    print(f\"The result is: {num1 * num2}\")\n",
    "elif operator == '/':\n",
    "    if num2 != 0:\n",
    "        print(f\"The result is: {num1 / num2}\")\n",
    "    else:\n",
    "        print(\"Cannot divide by zero.\")\n",
    "else:\n",
    "    print(\"Invalid operator. Please enter one of (+, -, *, /).\")\n"
   ]
  }
 ],
 "metadata": {
  "kernelspec": {
   "display_name": ".venv",
   "language": "python",
   "name": "python3"
  },
  "language_info": {
   "codemirror_mode": {
    "name": "ipython",
    "version": 3
   },
   "file_extension": ".py",
   "mimetype": "text/x-python",
   "name": "python",
   "nbconvert_exporter": "python",
   "pygments_lexer": "ipython3",
   "version": "3.11.9"
  }
 },
 "nbformat": 4,
 "nbformat_minor": 2
}
