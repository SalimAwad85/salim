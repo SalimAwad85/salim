{
 "cells": [
  {
   "cell_type": "code",
   "execution_count": 2,
   "metadata": {},
   "outputs": [
    {
     "name": "stdout",
     "output_type": "stream",
     "text": [
      "[1, 4, 9, 16, 25, 36, 49, 64, 81, 100]\n"
     ]
    }
   ],
   "source": [
    "squares = [x**2 for x in range(1, 11)]\n",
    "print(squares)"
   ]
  },
  {
   "cell_type": "code",
   "execution_count": 6,
   "metadata": {},
   "outputs": [],
   "source": [
    "even_numbers = list(range(0, 21, 2))"
   ]
  },
  {
   "cell_type": "code",
   "execution_count": 9,
   "metadata": {},
   "outputs": [
    {
     "name": "stdout",
     "output_type": "stream",
     "text": [
      "['s', 'r', 'c', 'd', 'e']\n"
     ]
    }
   ],
   "source": [
    "words= [\"salim\", \"rami\", \"cherry\", \"date\", \"elderberry\"]\n",
    "\n",
    "# using list comprehension to extract the first letters\n",
    "first_letters = [word[0] for word in words]\n",
    "\n",
    "#output the rsuit\n",
    "print(first_letters)\n"
   ]
  },
  {
   "cell_type": "code",
   "execution_count": 12,
   "metadata": {},
   "outputs": [],
   "source": [
    "spuaees_dich = {i: i**2 for i in range(1, 5+1)}"
   ]
  },
  {
   "cell_type": "code",
   "execution_count": 16,
   "metadata": {},
   "outputs": [
    {
     "name": "stdout",
     "output_type": "stream",
     "text": [
      "{'samir': 5, 'salim': 5, 'rami': 4, 'omar': 4, 'samer': 5, 'rageb': 5, 'kamal': 5}\n"
     ]
    }
   ],
   "source": [
    "# Sample list of words\n",
    "words = [\"samir\", \"salim\", \"rami\", \"omar\", \"samer\", \"rageb\", \"kamal\"]\n",
    "\n",
    "# Dictionary comprehension to create the dictionary\n",
    "word_lengths = {word: len(word) for word in words}\n",
    "\n",
    "# Print the resulting dictionary\n",
    "print(word_lengths)"
   ]
  },
  {
   "cell_type": "code",
   "execution_count": 24,
   "metadata": {},
   "outputs": [
    {
     "name": "stdout",
     "output_type": "stream",
     "text": [
      "{1: 1, 2: 4, 3: 9, 4: 16, 5: 25}\n"
     ]
    }
   ],
   "source": [
    "# Dictionary comprehension to create a dictionary of numbers and their squares\n",
    "square_dict = {num: num ** 2 for num in range (1,6)}\n",
    "\n",
    "# Printing the resulting dictionary\n",
    "print(square_dict)\n"
   ]
  },
  {
   "cell_type": "code",
   "execution_count": 18,
   "metadata": {},
   "outputs": [
    {
     "name": "stdout",
     "output_type": "stream",
     "text": [
      "{'name': 'salim', 'age': 39, 'city': 'germany'}\n"
     ]
    }
   ],
   "source": [
    "keys = ['name', 'age', 'city']\n",
    "values = ['salim',39, 'germany']\n",
    "\n",
    "# Using zip() to create a dictionary\n",
    "my_dict = dict(zip(keys, values))\n",
    "\n",
    "print(my_dict)\n"
   ]
  },
  {
   "cell_type": "code",
   "execution_count": 19,
   "metadata": {},
   "outputs": [
    {
     "name": "stdout",
     "output_type": "stream",
     "text": [
      "{'salim': 5, 'omer': 4, 'rami': 4, 'Samer': 5}\n"
     ]
    }
   ],
   "source": [
    "def word_lengths(words):\n",
    "    length_dict = {word: len(word) for word in words}\n",
    "    return length_dict\n",
    "\n",
    "# Example usage:\n",
    "word_list = [\"salim\", \"omer\", \"rami\", \"Samer\"]\n",
    "length_dictionary = word_lengths(word_list)\n",
    "print(length_dictionary)\n"
   ]
  }
 ],
 "metadata": {
  "kernelspec": {
   "display_name": ".venv",
   "language": "python",
   "name": "python3"
  },
  "language_info": {
   "codemirror_mode": {
    "name": "ipython",
    "version": 3
   },
   "file_extension": ".py",
   "mimetype": "text/x-python",
   "name": "python",
   "nbconvert_exporter": "python",
   "pygments_lexer": "ipython3",
   "version": "3.11.9"
  }
 },
 "nbformat": 4,
 "nbformat_minor": 2
}
